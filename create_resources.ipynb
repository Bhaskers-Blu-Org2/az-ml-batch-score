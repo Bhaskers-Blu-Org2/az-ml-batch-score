{
 "cells": [
  {
   "cell_type": "markdown",
   "metadata": {},
   "source": [
    "# Creating Azure Resources\n",
    "\n"
   ]
  },
  {
   "cell_type": "code",
   "execution_count": null,
   "metadata": {},
   "outputs": [],
   "source": [
    "from azure.mgmt.resource import ResourceManagementClient\n",
    "from azure.common.credentials import ServicePrincipalCredentials\n",
    "from azure.mgmt.resource.resources.models import DeploymentMode\n",
    "from azureml.core import Workspace\n",
    "from azureml.core.compute import AmlCompute, ComputeTarget\n",
    "import json"
   ]
  },
  {
   "cell_type": "markdown",
   "metadata": {},
   "source": [
    "Start with specifying your subscription and resource group information and log in."
   ]
  },
  {
   "cell_type": "code",
   "execution_count": null,
   "metadata": {},
   "outputs": [],
   "source": [
    "# Subscription & resource group\n",
    "SUBSCRIPTION_NAME = \"Boston Team Danielle\"\n",
    "RESOURCE_GROUP = \"baimm\"\n",
    "LOCATION = \"eastus\""
   ]
  },
  {
   "cell_type": "code",
   "execution_count": null,
   "metadata": {},
   "outputs": [],
   "source": [
    "# Login to subscription \n",
    "!az login --use-device-code"
   ]
  },
  {
   "cell_type": "code",
   "execution_count": null,
   "metadata": {},
   "outputs": [],
   "source": [
    "# Select subscription\n",
    "!az account set -s \"{SUBSCRIPTION_NAME}\""
   ]
  },
  {
   "cell_type": "code",
   "execution_count": null,
   "metadata": {},
   "outputs": [],
   "source": [
    "# Get susbcription info\n",
    "temp = '\"az account show -s \\\\\"{}\\\\\"\"'.format(SUBSCRIPTION_NAME)\n",
    "subscription_id, tenant_id  = !eval {temp} | jq -r '.id, .tenantId'"
   ]
  },
  {
   "cell_type": "code",
   "execution_count": null,
   "metadata": {},
   "outputs": [],
   "source": [
    "# Create resource group\n",
    "!az group create -l {LOCATION} -n {RESOURCE_GROUP}"
   ]
  },
  {
   "cell_type": "markdown",
   "metadata": {},
   "source": [
    "The following are parameters needed to create and access the main Azure resources. These include: Azure Container Registry (ACR), Azure Machine Learning (AML), Blob Storage, and Logic Apps parameters. \n",
    "\n",
    "You can use the default values below as is."
   ]
  },
  {
   "cell_type": "code",
   "execution_count": null,
   "metadata": {},
   "outputs": [],
   "source": [
    "# AML\n",
    "AML_WORKSPACE = \"amlws\"\n",
    "AML_COMPUTE_NAME = \"{}cluster\".format(RESOURCE_GROUP)\n",
    "AML_VM_SIZE = \"Standard_D2\"\n",
    "AML_MIN_NODES = 2\n",
    "AML_MAX_NODES = 2\n",
    "\n",
    "# Scoring Script\n",
    "PIP_PACKAGES = [\"numpy\", \"scipy\", \"scikit-learn\", \"pandas\"]\n",
    "PYTHON_VERSION = \"3.6.7\"\n",
    "PYTHON_SCRIPT_NAME = \"predict.py\"\n",
    "PYTHON_SCRIPT_DIRECTORY = \".\"\n",
    "\n",
    "# Blob storage\n",
    "BLOB_ACCOUNT = \"{}storage\".format(RESOURCE_GROUP)\n",
    "MODELS_CONTAINER = \"models\"\n",
    "PREDS_CONTAINER = \"preds\"\n",
    "DATA_CONTAINER = \"data\"\n",
    "DATA_BLOB = \"sensor_data.csv\"  # name of data file to be copied to blob storage\n",
    "\n",
    "# ACR\n",
    "ACR_NAME = '{}acr'.format(RESOURCE_GROUP)\n",
    "ACR_SERVER = '{}.azurecr.io'.format(ACR_NAME)\n",
    "SCHED_DOCKER_IMG = '{}/schedimg:v1'.format(ACR_SERVER)\n",
    "\n",
    "# Logic App\n",
    "LA_ACI_CON = \"aci\"\n",
    "LA_WORKFLOW = \"{}scheduler\".format(RESOURCE_GROUP)\n",
    "LA_ACI_CON_JSON = \"sched/api_con_template.json\"\n",
    "LA_JSON = \"sched/logic_app_template.json\"\n",
    "LA_ACI_CONTAINER_NAME = \"schedcontainer\"\n",
    "LA_ACI_CONTAINER_GROUP = \"containergroup\"\n",
    "LA_ACI_COMMAND = [\"python\", \"submit_jobs.py\", \"bai_pred_config.json\"]\n"
   ]
  },
  {
   "cell_type": "code",
   "execution_count": null,
   "metadata": {},
   "outputs": [],
   "source": [
    "# Create Blob storage account\n",
    "!az storage account create -n {BLOB_ACCOUNT} -g {RESOURCE_GROUP} -l {LOCATION}"
   ]
  },
  {
   "cell_type": "code",
   "execution_count": null,
   "metadata": {},
   "outputs": [],
   "source": [
    "# Retrieve Blob storage key\n",
    "blob_key = !az storage account keys list -g {RESOURCE_GROUP} -n {BLOB_ACCOUNT} | jq -r .[0].value\n",
    "blob_key = blob_key[0]"
   ]
  },
  {
   "cell_type": "code",
   "execution_count": null,
   "metadata": {},
   "outputs": [],
   "source": [
    "# Create models, predictions and data containers\n",
    "!az storage container create -n {MODELS_CONTAINER} --account-key {blob_key} --account-name {BLOB_ACCOUNT}\n",
    "!az storage container create -n {PREDS_CONTAINER} --account-key {blob_key} --account-name {BLOB_ACCOUNT}\n",
    "!az storage container create -n {DATA_CONTAINER} --account-key {blob_key} --account-name {BLOB_ACCOUNT}"
   ]
  },
  {
   "cell_type": "markdown",
   "metadata": {},
   "source": [
    "The following commands copy the pre-trained models and sample data from this repo to blob storage so that AML can access them during job submission."
   ]
  },
  {
   "cell_type": "code",
   "execution_count": null,
   "metadata": {},
   "outputs": [],
   "source": [
    "# Copy models from local dir to blob container\n",
    "!az storage blob upload-batch -d {MODELS_CONTAINER} -s models --account-name {BLOB_ACCOUNT} --account-key {blob_key}\n",
    "# Copy dataset to blob\n",
    "!az storage blob upload -c {DATA_CONTAINER} -f data/'{DATA_BLOB}' -n '{DATA_BLOB}' --account-name {BLOB_ACCOUNT} --account-key {blob_key}"
   ]
  },
  {
   "cell_type": "code",
   "execution_count": null,
   "metadata": {},
   "outputs": [],
   "source": [
    "# Create AML Workspace\n",
    "aml_ws = Workspace.create(\n",
    "    name=AML_WORKSPACE,\n",
    "    subscription_id=subscription_id,\n",
    "    resource_group=RESOURCE_GROUP,\n",
    "    create_resource_group=False,\n",
    "    location=LOCATION,\n",
    ")"
   ]
  },
  {
   "cell_type": "code",
   "execution_count": null,
   "metadata": {},
   "outputs": [],
   "source": [
    "# Create compute target\n",
    "provisioning_config = AmlCompute.provisioning_configuration(vm_size = AML_VM_SIZE,\n",
    "                                                            min_nodes = AML_MIN_NODES,\n",
    "                                                            max_nodes = AML_MAX_NODES)\n",
    "\n",
    "compute_target = ComputeTarget.create(aml_ws, AML_COMPUTE_NAME, provisioning_config)\n",
    "compute_target.wait_for_completion(show_output=True)"
   ]
  },
  {
   "cell_type": "markdown",
   "metadata": {},
   "source": [
    "You will also need service principal credentials for authentication. The following command creates and retrieves the credentials. For more information on service principal, check the docuemntation [here](https://docs.microsoft.com/en-us/cli/azure/create-an-azure-service-principal-azure-cli?view=azure-cli-latest)."
   ]
  },
  {
   "cell_type": "code",
   "execution_count": null,
   "metadata": {},
   "outputs": [],
   "source": [
    "# Create and get service principal credentials\n",
    "temp = !az ad sp create-for-rbac | jq -r '.appId, .password'\n",
    "sp_client, sp_secret = temp[-2:]"
   ]
  },
  {
   "cell_type": "markdown",
   "metadata": {},
   "source": [
    "We also generate a json config file for the Python script that creates and submits the AML pipeline. The config file includes AML, Blob storage, Python, and service principal parameters.\n"
   ]
  },
  {
   "cell_type": "code",
   "execution_count": null,
   "metadata": {},
   "outputs": [],
   "source": [
    "# Create config file for Batch AI job submission script (submit_jobs.py)\n",
    "submit_jobs_config = {\n",
    "  \"sp_tenant\": tenant_id,\n",
    "  \"sp_client\": sp_client,\n",
    "  \"sp_secret\": sp_secret,\n",
    "  \"resource_group_name\": RESOURCE_GROUP,\n",
    "  \"subscription_id\": subscription_id,\n",
    "  \"aml_work_space\": AML_WORKSPACE,\n",
    "  \"experiment_name\": \"mm_score\",\n",
    "  \"cluster_name\": AML_COMPUTE_NAME,\n",
    "  \"location\": LOCATION,\n",
    "  \"blob_account\": BLOB_ACCOUNT,\n",
    "  \"blob_key\": blob_key,\n",
    "  \"models_blob_container\": MODELS_CONTAINER,\n",
    "  \"data_blob_container\": DATA_CONTAINER,\n",
    "  \"data_blob\" : DATA_BLOB,\n",
    "  \"preds_blob_container\": PREDS_CONTAINER,\n",
    "  \"pip_packages\": PIP_PACKAGES,\n",
    "  \"python_version\": PYTHON_VERSION,\n",
    "  \"python_script_name\": PYTHON_SCRIPT_NAME,\n",
    "  \"python_script_directory\": PYTHON_SCRIPT_DIRECTORY,\n",
    "  \"device_ids\": [ 1, 2, 3 ],\n",
    "  \"tags\": [ 1, 2, 3, 4, 5 ]\n",
    "}\n",
    "with open('sched/bai_pred_config.json', 'w') as f:\n",
    "    json.dump(submit_jobs_config, f, indent=4)"
   ]
  },
  {
   "cell_type": "markdown",
   "metadata": {},
   "source": [
    "We will submit AML pipelines on a schedule defined and triggered by a Logic App. The Logic App creates a container instance from ACR and runs a Docker container that executes the pipeline submission. That Docker image can be created and pushed to ACR using the following commands. "
   ]
  },
  {
   "cell_type": "code",
   "execution_count": null,
   "metadata": {},
   "outputs": [],
   "source": [
    "#Create scheduling docker img\n",
    "!sudo docker build -f sched/Dockerfile -t {SCHED_DOCKER_IMG} ."
   ]
  },
  {
   "cell_type": "code",
   "execution_count": null,
   "metadata": {},
   "outputs": [],
   "source": [
    "# Create ACR\n",
    "!az acr create --resource-group {RESOURCE_GROUP} --name {ACR_NAME} --sku Basic\n",
    "# Enable ACR admin account authentication\n",
    "!az acr update -n {ACR_NAME} --admin-enabled true\n",
    "# Get ACR's password \n",
    "acr_user = ACR_NAME\n",
    "acr_password = !az acr credential show --name {ACR_NAME} | jq -r .passwords[0].value\n",
    "acr_password = acr_password[0]"
   ]
  },
  {
   "cell_type": "code",
   "execution_count": null,
   "metadata": {},
   "outputs": [],
   "source": [
    "# Login to ACR and push docker image\n",
    "!az acr login --name {ACR_NAME}\n",
    "!sudo docker push {SCHED_DOCKER_IMG}"
   ]
  },
  {
   "cell_type": "markdown",
   "metadata": {},
   "source": [
    "Finally, we create the Logic App that acts as a scheduler for this solution. The Logic App and its API connection to Azure Container Instances (ACI) can be created using an Azure Resource Management (ARM) client and corresponding json templates that are stored in the repo."
   ]
  },
  {
   "cell_type": "code",
   "execution_count": null,
   "metadata": {},
   "outputs": [],
   "source": [
    "# Create credentials and ARM client\n",
    "credentials = ServicePrincipalCredentials(client_id=sp_client,\n",
    "                                          secret=sp_secret,\n",
    "                                          tenant=tenant_id)\n",
    "arm_client = ResourceManagementClient(credentials, subscription_id)"
   ]
  },
  {
   "cell_type": "code",
   "execution_count": null,
   "metadata": {},
   "outputs": [],
   "source": [
    "# Create an ACI API connection\n",
    "with open('sched/api_con_template.json') as f:\n",
    "    aci_api_con_template = json.load(f)\n",
    "\n",
    "aci_api_con_params = {\"location\": {\"value\": LOCATION},\n",
    "                      \"name\": {\"value\": LA_ACI_CON},\n",
    "                      \"subscription_id\": {\"value\": subscription_id}\n",
    "                      }\n",
    "\n",
    "aci_api_con_props = {\n",
    "    'mode': DeploymentMode.incremental,\n",
    "    'template': aci_api_con_template,\n",
    "    'parameters': aci_api_con_params\n",
    "}\n",
    "\n",
    "arm_client.deployments.create_or_update(RESOURCE_GROUP, LA_ACI_CON, aci_api_con_props)"
   ]
  },
  {
   "cell_type": "markdown",
   "metadata": {},
   "source": [
    "For the Logic App to run, you would need to authenticate the ACI API connection that has been created.\n",
    "\n",
    "To do so, navigate to your resource group in the Azure Portal, click on the ACI API connection and authenticate by clicking on the *\"This connection is not authenticated\"* warning message."
   ]
  },
  {
   "cell_type": "code",
   "execution_count": null,
   "metadata": {},
   "outputs": [],
   "source": [
    "# Create Logic App\n",
    "with open('sched/logic_app_template.json') as f:\n",
    "    logic_app_template = json.load(f)\n",
    "\n",
    "logic_app_params = {\"location\": {\"value\": LOCATION},\n",
    "                    \"resource_group\": { \"value\": RESOURCE_GROUP },\n",
    "                    \"name\": {\"value\": LA_WORKFLOW},\n",
    "                    \"subscription_id\": {\"value\": subscription_id},\n",
    "                    \"container_name\": { \"value\": LA_ACI_CONTAINER_NAME },\n",
    "                    \"container_group\": { \"value\": LA_ACI_CONTAINER_GROUP },\n",
    "                    \"command\": { \"value\": LA_ACI_COMMAND },\n",
    "                    \"image_name\": { \"value\": SCHED_DOCKER_IMG },\n",
    "                    \"acr_pass\": { \"value\": acr_password },\n",
    "                    \"acr_user\": { \"value\": acr_user },\n",
    "                    \"acr_server\": { \"value\": ACR_SERVER },\n",
    "                    \"aci_connection_name\": { \"value\": LA_ACI_CON }\n",
    "                    }\n",
    "\n",
    "logic_app_props = {\n",
    "    'mode': DeploymentMode.incremental,\n",
    "    'template': logic_app_template,\n",
    "    'parameters': logic_app_params\n",
    "}\n",
    "\n",
    "arm_client.deployments.create_or_update(RESOURCE_GROUP, LA_WORKFLOW, logic_app_props)"
   ]
  }
 ],
 "metadata": {
  "kernelspec": {
   "display_name": "Python -baimm",
   "language": "python",
   "name": "myenv"
  },
  "language_info": {
   "codemirror_mode": {
    "name": "ipython",
    "version": 3
   },
   "file_extension": ".py",
   "mimetype": "text/x-python",
   "name": "python",
   "nbconvert_exporter": "python",
   "pygments_lexer": "ipython3",
   "version": "3.6.7"
  }
 },
 "nbformat": 4,
 "nbformat_minor": 2
}
